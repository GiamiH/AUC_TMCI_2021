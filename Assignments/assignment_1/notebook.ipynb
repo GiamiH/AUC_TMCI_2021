{
 "cells": [
  {
   "cell_type": "markdown",
   "metadata": {},
   "source": [
    "# Assignment 1"
   ]
  },
  {
   "cell_type": "markdown",
   "metadata": {
    "jp-MarkdownHeadingCollapsed": true,
    "tags": []
   },
   "source": [
    "## Guidelines\n",
    "\n",
    "> Remember that this is a code notebook - add an explanation of what you do using text boxes and markdown, and comment your code.\n",
    ">\n",
    "> If you re-use a substantial portion of code you find online, e.g on Stackoverflow, you need to add a link to it and make the borrowing explicit. The same applies of you take it and modify it, even substantially. There is nothing bad in doing that, providing you are acknowledging it and make it clear you know what you're doing. Similarly, if you make use of generative language models (e.g. ChatGPT) to draft your answer, you must acknowledge this and include the prompts used to obtain that output. Again, your answer should be sufficiently commented and described to show that you understand your code.\n",
    ">\n",
    "> Make sure your notebooks have been run when you submit, as I won't run them myself. Submit both the `.ipynb` file along with an `.html` export of the same. Submit all necessary auxilliary files as well. Please compress your submission into a `.zip` archive. Only `.zip` files can be submitted.\n",
    "> If you are using Google Colab, here is a tutorial for obtaining an HTML export: https://stackoverflow.com/questions/53460051/convert-ipynb-notebook-to-html-in-google-colab .\n",
    ">\n",
    "> With Jupyter, you can simply export it as HTML through the File menu."
   ]
  },
  {
   "cell_type": "markdown",
   "metadata": {
    "tags": []
   },
   "source": [
    "## Grading policy\n",
    "> As follows:\n",
    ">\n",
    "> * 70 points for correctly completing the assignment.\n",
    ">\n",
    "> * 20 points for appropriately writing and organizing your code in terms of structure, readibility (also by humans), comments and minimal documentation. It is important to be concise but also to explain what you did and why, when not obvious. Feel free to re-use functions and variables from previous questions if that helps for structure and readability - you do not need to repeat previous steps for each question.\n",
    "> \n",
    "> * 10 points for doing something extra, e.g., if you go beyond expectations (overall or on something specific). Some ideas for extras might be mentioned in the exercises, or you can come up with your own. You don't need to do them all to get the bonus. The sum of points is 90, doing (some of) the extras can bring you to 100, so the extras are not necessary to get an A.\n",
    "> \n",
    "\n",
    "**The AUC code of conduct applies to this assignment: please only submit your own work and follow the instructions on referencing external sources above.**"
   ]
  },
  {
   "cell_type": "markdown",
   "metadata": {},
   "source": [
    "---"
   ]
  },
  {
   "cell_type": "markdown",
   "metadata": {},
   "source": [
    "# Warm up (20 points)"
   ]
  },
  {
   "cell_type": "markdown",
   "metadata": {},
   "source": [
    "## Question 1 (2 points)\n",
    "\n",
    "Explain why `list1` and `list2` behave differently when they are passed to the `append_to_nested_list()` function."
   ]
  },
  {
   "cell_type": "code",
   "execution_count": 32,
   "metadata": {},
   "outputs": [
    {
     "name": "stdout",
     "output_type": "stream",
     "text": [
      "[['Python'], [], []]\n",
      "[['Python'], ['Python'], ['Python']]\n"
     ]
    }
   ],
   "source": [
    "def append_to_nested_list(a_list):\n",
    "    a_list[0].append(\"Python\")\n",
    "    return a_list\n",
    "    \n",
    "list1 = [[], [], []]\n",
    "list2 = [[]] * 3\n",
    "\n",
    "print(append_to_nested_list(list1))\n",
    "print(append_to_nested_list(list2))"
   ]
  },
  {
   "cell_type": "markdown",
   "metadata": {},
   "source": [
    "list1 creates a list that contains three separate empty list and each inner list has its own reference in memory, whereas list2 creates three inner list that point to the same object in memory. Hence, that is why we see list1 returns with one Python recorded in one of the inner list, whereas list2 has Python in all of the inner lists"
   ]
  },
  {
   "cell_type": "markdown",
   "metadata": {},
   "source": [
    "## Question 2 (2 points)\n",
    "\n",
    "Write a function that counts the total frequency of words that start and end with the same character (e.g. comic) in a text file and test it on `data/melville-md.txt`. \n",
    "\n",
    "Ensure that the words are treated case-insensitive."
   ]
  },
  {
   "cell_type": "code",
   "execution_count": 42,
   "metadata": {
    "tags": []
   },
   "outputs": [],
   "source": [
    "import re\n",
    "\n",
    "def count_words_start_end_same_char(file_path):\n",
    "    # Read the text from the file\n",
    "    with open(file_path, 'r', encoding='utf-8') as file:\n",
    "        text = file.read()\n",
    "\n",
    "    # Tokenize the text into words\n",
    "    words = re.findall(r'\\b\\w+\\b', text.lower())\n",
    "\n",
    "    # Count the frequency of words starting and ending with the same character\n",
    "    word_frequency = {}\n",
    "    for word in words:\n",
    "        if len(word) >= 2 and word[0] == word[-1]:\n",
    "            word_frequency[word] = word_frequency.get(word, 0) + 1\n",
    "\n",
    "    return word_frequency\n",
    "\n",
    "# Test the function on 'data/melville-md.txt'\n",
    "file_path = 'data/melville-md.txt'\n",
    "result = count_words_start_end_same_char(file_path)\n",
    "\n",
    "# Display the results\n",
    "#for word, frequency in result.items():\n",
    "    #print(f\"{word}: {frequency} occurrences\")\n"
   ]
  },
  {
   "cell_type": "markdown",
   "metadata": {},
   "source": [
    "## Question 3 (2 points)\n",
    "\n",
    "Rewrite the following code such that:\n",
    "\n",
    "- the sequence of fruit names are randomly presented (without replacement). Use a function in the [random](https://docs.python.org/3.7/library/random.html) module for this.\n",
    "\n",
    "\n",
    "- the article \"an\" is used when a fruit name begins with a vowel."
   ]
  },
  {
   "cell_type": "code",
   "execution_count": 43,
   "metadata": {
    "scrolled": true
   },
   "outputs": [],
   "source": [
    "import random\n",
    "\n",
    "available_fruit = ['apple', 'apricot', 'avocado', 'banana', 'bilberry', 'blackberry', 'blackcurrant', 'blueberry', 'boysenberry', 'currant', 'cherry', 'cherimoya', 'cloudberry', 'coconut', 'cranberry', 'cucumber', 'damson', 'date', 'dragonfruit', 'durian', 'elderberry', 'feijoa', 'fig', 'gooseberry', 'grape', 'raisin', 'grapefruit', 'guava', 'honeyberry', 'huckleberry', 'jabuticaba', 'jackfruit', 'jambul', 'jujube', 'kiwano', 'kiwifruit', 'kumquat', 'lemon', 'lime', 'loquat', 'longan', 'lychee', 'mango', 'mangosteen', 'marionberry', 'melon', 'cantaloupe', 'honeydew', 'watermelon', 'mulberry', 'nectarine', 'nance', 'orange', 'clementine', 'mandarine', 'tangerine', 'papaya', 'passionfruit', 'peach', 'pear', 'persimmon', 'physalis', 'plantain', 'plum', 'prune', 'pineapple', 'plumcot', 'pomegranate', 'pomelo', 'quince', 'raspberry', 'salmonberry', 'rambutan', 'redcurrant', 'salak', 'satsuma', 'soursop', 'strawberry', 'tamarillo', 'tamarind', 'yuzu']\n",
    "\n",
    "random.shuffle(available_fruit)\n",
    "\n",
    "#for fruit in available_fruit:\n",
    "    #article = 'an' if fruit[0].lower() in {'a', 'e', 'i', 'o', 'u'} else 'a'\n",
    "    #print(\"We have a \" + fruit)"
   ]
  },
  {
   "cell_type": "markdown",
   "metadata": {},
   "source": [
    "## Question 4 (5 points)\n",
    "\n",
    "The following code has been written to extract all word-initial consonant clusters in a text (e.g. \"br\" in \"bread). Each sequence is obtained by matching any sequence of letters that does not include 'aeiou' and that occurs after a whitespace or the start of the line and that consists of 2 or more such characters.\n",
    "\n",
    "It works by reading an input file line by line, and finding all matches of a regular expression in this line (case insensitive).\n",
    "\n",
    "Unfortunately, the method only counts, and we do not find out which word-initial consonants are present in the text. Can you find a way to save all matching consonant clusters to the dictionary named \"consonantclusters\" with their frequency as the value, and then print this dictionary? Note that there can be multiple results per line. Try to avoid capturing the space(s) before the consonant cluster also.\n",
    "\n",
    "Solutions where you adapt the provided regular expression will get more points than non-regex solutions, but you can try a non-regex solution if you are stuck.\n",
    "\n",
    "**Possible extra:** Print the consonant clusters sorted by frequency and in a nice looking way."
   ]
  },
  {
   "cell_type": "code",
   "execution_count": 25,
   "metadata": {},
   "outputs": [],
   "source": [
    "import codecs\n",
    "import re"
   ]
  },
  {
   "cell_type": "code",
   "execution_count": 36,
   "metadata": {},
   "outputs": [
    {
     "name": "stdout",
     "output_type": "stream",
     "text": [
      "51523\n"
     ]
    }
   ],
   "source": [
    "import codecs\n",
    "import re\n",
    "\n",
    "consonantclusters = {}\n",
    "consonantclustercount = 0\n",
    "with codecs.open(\"data/melville-md.txt\", \"r\", encoding=\"utf8\") as infile:\n",
    "    consonantclusterregex = re.compile(r'(^|\\s)(?:(?![aeiouy])[a-z]){2,}')\n",
    "    for line in infile:\n",
    "        result = consonantclusterregex.findall(line.lower())\n",
    "        if result:\n",
    "            consonantclustercount += len(result)\n",
    "            for cluster in result:\n",
    "                consonantclusters[cluster] = consonantclusters.get(cluster, 0) + 1\n",
    "print(consonantclustercount)"
   ]
  },
  {
   "cell_type": "code",
   "execution_count": 41,
   "metadata": {
    "tags": []
   },
   "outputs": [
    {
     "name": "stdout",
     "output_type": "stream",
     "text": [
      "Total word-initial consonant clusters count: 51523\n",
      "Consonant Clusters and Frequencies:\n",
      " : 47026\n",
      ": 4497\n"
     ]
    }
   ],
   "source": [
    "#code here"
   ]
  },
  {
   "cell_type": "markdown",
   "metadata": {},
   "source": [
    "## Question 5 (9 points)\n",
    "\n",
    "Please use the frequencies in `late_arrival_causes` to create a duplicate of the plot below, as close as possible. This is called a Pareto chart.\n",
    "\n",
    "Note: the line plot above the bars shows the cumulative frequency.\n",
    "\n",
    "**Possible extra:** suggest, motivate and implement an alternative visualization for the same data."
   ]
  },
  {
   "cell_type": "markdown",
   "metadata": {},
   "source": [
    "![pareto chart](images/pareto-chart.png)"
   ]
  },
  {
   "cell_type": "code",
   "execution_count": null,
   "metadata": {},
   "outputs": [],
   "source": [
    "late_arrival_causes = {\"Child Care\" : 44, \"Emergency\" : 7, \"Overslept\" : 11, \"Traffic\" : 56, \"Transp.\" : 27, \"Weather\" : 20}"
   ]
  },
  {
   "cell_type": "code",
   "execution_count": 2,
   "metadata": {},
   "outputs": [
    {
     "data": {
      "image/png": "[encoded data removed]",
      "text/plain": [
       "<Figure size 640x480 with 2 Axes>"
      ]
     },
     "metadata": {},
     "output_type": "display_data"
    }
   ],
   "source": [
    "import matplotlib.pyplot as plt\n",
    "\n",
    "late_arrival_causes = {\"Child Care\": 44, \"Emergency\": 7, \"Overslept\": 11, \"Traffic\": 56, \"Transp.\": 27, \"Weather\": 20}\n",
    "\n",
    "# Sort the causes by frequency in descending order\n",
    "sorted_causes = sorted(late_arrival_causes.items(), key=lambda x: x[1], reverse=True)\n",
    "\n",
    "# Calculate cumulative frequencies\n",
    "cumulative_frequencies = [sorted_causes[0][1]]\n",
    "for cause, frequency in sorted_causes[1:]:\n",
    "    cumulative_frequencies.append(cumulative_frequencies[-1] + frequency)\n",
    "\n",
    "# Plot the Pareto chart\n",
    "fig, ax1 = plt.subplots()\n",
    "\n",
    "# Bar plot for frequencies\n",
    "ax1.bar([cause[0] for cause in sorted_causes], [cause[1] for cause in sorted_causes], color='b')\n",
    "\n",
    "# Line plot for cumulative frequencies\n",
    "ax2 = ax1.twinx()\n",
    "ax2.plot([cause[0] for cause in sorted_causes], cumulative_frequencies, color='r', marker='o')\n",
    "\n",
    "# Set labels and title\n",
    "ax1.set_xlabel('Causes')\n",
    "ax1.set_ylabel('Frequency', color='b')\n",
    "ax2.set_ylabel('Cumulative Frequency', color='r')\n",
    "plt.title('Pareto Chart for Late Arrival Causes')\n",
    "\n",
    "# Rotate x-axis labels for better readability\n",
    "plt.xticks(rotation=45, ha=\"right\")\n",
    "\n",
    "# Show the plot\n",
    "plt.show()\n"
   ]
  },
  {
   "cell_type": "markdown",
   "metadata": {},
   "source": [
    "---"
   ]
  },
  {
   "cell_type": "markdown",
   "metadata": {},
   "source": [
    "# Preprocessing pipelines (30 points)"
   ]
  },
  {
   "cell_type": "markdown",
   "metadata": {},
   "source": [
    "## Question 6 (20 points)\n",
    "\n",
    "- Download a 19th-century edition (or earlier, but not later!) of a book you like from the [Internet Archive](https://archive.org) in `.txt` format. For example, [Frankenstein](https://archive.org/details/ghostseer01schiuoft/page/n6). Add the link to the edition you used to your answer, as well as the `.txt` file to your submission.\n",
    "\n",
    "- Write code that:\n",
    "\n",
    "    1. Reads the text in memory.\n",
    "    \n",
    "    1. Pre-processes the text with a tokenizer from [NLTK](https://www.nltk.org/api/nltk.tokenize.html) (remember to motivate your choice of tokenizer) and optionally other preprocessing steps if you feel this helps.\n",
    "    \n",
    "    1. Filter out words that consist of strictly less than 4 alphabetic characters.\n",
    "\n",
    "    1. Counts the frequencies of all the words in the corpus (words should be counted case-insensitive).\n",
    "\n",
    "    1. Writes each word-frequency pair to a csv file (from most frequent to rarest).\n",
    "\n",
    "*Briefly* comment on your results, especially looking at very frequent and very infrequent words. What is problematic about processing these old editions? Can you find some limitations of the tokenizer in use, and think about how you would improve on it? Naturally, this part is required for full points.\n",
    "\n",
    "**Possible extra:** plot the relative frequency of the top N words (e.g., use the Pareto chart you did above, or another suitable plot) and discuss whether the distribution might follow the [Zipf's law](https://en.wikipedia.org/wiki/Zipf%27s_law).\n",
    "\n",
    "**Possible extra:** add lemmatization or stemming and part-of-speech tagging."
   ]
  },
  {
   "cell_type": "code",
   "execution_count": null,
   "metadata": {},
   "outputs": [],
   "source": [
    "# your code here"
   ]
  },
  {
   "cell_type": "markdown",
   "metadata": {},
   "source": [
    "## Question 7 (10 points)\n",
    "\n",
    "Do some self-learning: implement the same pipeline of question 6 using [spaCy pipelines](https://spacy.io/usage/processing-pipelines).\n",
    "\n",
    "Hint: Make sure to know what Spacy does by default when loading specific models, the defaults are not always what you need."
   ]
  },
  {
   "cell_type": "code",
   "execution_count": null,
   "metadata": {},
   "outputs": [],
   "source": [
    "# your code here"
   ]
  },
  {
   "cell_type": "markdown",
   "metadata": {},
   "source": [
    "---"
   ]
  },
  {
   "cell_type": "markdown",
   "metadata": {},
   "source": [
    "# Descriptive text analysis (20 points)"
   ]
  },
  {
   "cell_type": "markdown",
   "metadata": {},
   "source": [
    "## Question 8 (20 points)\n",
    "\n",
    "In the `data/numan` directory, there are lyrics of some songs from two albums by electronic music pioneer Gary Numan. There are 5 songs from his 1979 album and 5 songs from his 2017 album.  This data was acquired from [Genius](https://genius.com) (Genius Lyrics) using their API, something that you could do too using the lyricsgenius package for Python!\n",
    "\n",
    "- Load the data from these files into an appropriate data structure and perform appropriate preprocessing. \n",
    "\n",
    "*Hint: This might be a good opportunity to show how good you were at writing re-usable code in the previous questions.*\n",
    "\n",
    "- Write a function that can return some statistics about an albums' song lyrics, and run this function for both albums:\n",
    "\n",
    "    * Most frequent words\n",
    "    * Type to token ratio (unique words/words)\n",
    "    * Average word length\n",
    "    * Longest and shortests songs (by lyrics)\n",
    "    * What are the songs with the largest vocabulary and smallest vocabulary?\n",
    "    \n",
    "- Print these results to your notebook for both albums in a nice looking way. Then, also show these same statistics for just the song 'Cars' from the 1979 album, which was Gary Numan's most famous song.\n",
    "   \n",
    "   * Write down your interpretation of these results in this notebook.  \n",
    "   * In which of the two time periods was Gary Numan more verbose? Back it with some evidence.\n",
    "   * Electronic music is sometimes said to make more use of repetition than other forms of music. In which of the two time periods did Gary Numan make more use of lyrical repetition? You can either argue your case based on the numbers you were asked to calculate, or you can come up with your own definition of 'repetitiveness' and calculate it with Python code."
   ]
  },
  {
   "cell_type": "code",
   "execution_count": null,
   "metadata": {
    "tags": []
   },
   "outputs": [],
   "source": [
    "# your code here"
   ]
  }
 ],
 "metadata": {
  "kernelspec": {
   "display_name": "Python 3 (ipykernel)",
   "language": "python",
   "name": "python3"
  },
  "language_info": {
   "codemirror_mode": {
    "name": "ipython",
    "version": 3
   },
   "file_extension": ".py",
   "mimetype": "text/x-python",
   "name": "python",
   "nbconvert_exporter": "python",
   "pygments_lexer": "ipython3",
   "version": "3.11.5"
  },
  "toc": {
   "base_numbering": 1,
   "nav_menu": {},
   "number_sections": true,
   "sideBar": true,
   "skip_h1_title": false,
   "title_cell": "Table of Contents",
   "title_sidebar": "Contents",
   "toc_cell": false,
   "toc_position": {},
   "toc_section_display": true,
   "toc_window_display": true
  }
 },
 "nbformat": 4,
 "nbformat_minor": 4
}
